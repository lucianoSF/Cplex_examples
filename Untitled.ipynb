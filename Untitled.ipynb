{
 "cells": [
  {
   "cell_type": "markdown",
   "id": "dda7d73b",
   "metadata": {},
   "source": [
    "# Problema da Produção de móveis\n",
    "## V.D. quantidade $x_j$ de móveis A(j=1) e B(j=2) a serem produzidos"
   ]
  },
  {
   "cell_type": "markdown",
   "id": "80830a3f",
   "metadata": {},
   "source": [
    "## $$Maximizar \\ \\ \\ 100x_1+120x_2\n",
    "\\\\ Suj. \\ à: \\ \\ \\ 2x_1+x_2\\leq90\n",
    "\\\\ \\ \\ \\ \\ \\ \\ \\ \\ \\ \\ \\ \\ \\ \\ \\ \\ \\ \\ x_1 + 4x_2\\leq80\n",
    "\\\\ \\ \\ \\ \\ \\ \\ \\ \\ \\ \\ \\ \\ \\ \\ \\ \\ \\ \\ 3x_1 + 2x_2\\leq50\n",
    "\\\\ \\ \\ \\ \\ \\ \\ \\ \\ \\ \\ \\ \\ \\ \\ \\ \\ \\ \\ x_1, x_2\\geq0\n",
    "\\\\ \\ \\ \\ \\ \\ \\ \\ \\ \\ \\ \\ \\ \\ \\ \\ \\ \\ \\ x_1, x_2\\in \\mathbb{Z}$$"
   ]
  },
  {
   "cell_type": "code",
   "execution_count": 1,
   "id": "8ff98b19",
   "metadata": {},
   "outputs": [
    {
     "name": "stdout",
     "output_type": "stream",
     "text": [
      "solution for: Moveis\n",
      "objective: 2680\n",
      "x_1=4\n",
      "x_2=19\n",
      "\n"
     ]
    }
   ],
   "source": [
    "from docplex.mp.model import Model\n",
    "import cplex\n",
    "\n",
    "m = Model(name='Moveis')\n",
    "x_1 = m.integer_var(name='x_1')\n",
    "x_2 = m.integer_var(name='x_2')\n",
    "m.add_constraint(2*x_1+x_2<=90)\n",
    "m.add_constraint(x_1+4*x_2<=80)\n",
    "m.add_constraint(3*x_1+2*x_2<=50)\n",
    "m.add_constraint(x_1>=0)\n",
    "m.add_constraint(x_2>=0)\n",
    "m.maximize(100*x_1+120*x_2)\n",
    "m.solve()\n",
    "print(m.solution)\n",
    "#m.export_as_lp(\"a.lp\")"
   ]
  },
  {
   "cell_type": "markdown",
   "id": "3cc145ed",
   "metadata": {},
   "source": [
    "# Problema de Aplicação Financeira\n",
    "### V.D. quantidade $x_i$ a ser investido em cada fundo, i={1,2,3,4,5,6}"
   ]
  },
  {
   "cell_type": "markdown",
   "id": "9d8bc390",
   "metadata": {},
   "source": [
    "## $$Maximizar \\ \\ \\ 0,0865x_1+0,0950x_2+0,1x_3+0,0875x_4+0,0925x_5+0,09x_6\n",
    "\\\\ Suj. \\ à: \\ \\ \\ x_1, x_2, x_3, x_4, x_5, x_6\\leq187500\n",
    "\\\\ \\ \\ \\ \\ \\ \\ \\ \\ \\ \\ \\ \\ \\ \\ \\ \\ \\ \\ x_1 + x_6\\geq375000\n",
    "\\\\ \\ \\ \\ \\ \\ \\ \\ \\ \\ \\ \\ \\ \\ \\ \\ \\ \\ \\ x_2 + x_3 + x_5\\leq262500\n",
    "\\\\ \\ \\ \\ \\ \\ \\ \\ \\ \\ \\ \\ \\ \\ \\ \\ \\ \\ \\ x_1, x_2, x_3, x_4, x_5, x_6\\geq0\n",
    "\\\\ \\ \\ \\ \\ \\ \\ \\ \\ \\ \\ \\ \\ \\ \\ \\ \\ \\ \\ x_1, x_2, x_3, x_4, x_5, x_6\\in \\mathbb{R}$$"
   ]
  },
  {
   "cell_type": "code",
   "execution_count": 2,
   "id": "51401b4f",
   "metadata": {},
   "outputs": [
    {
     "name": "stdout",
     "output_type": "stream",
     "text": [
      "solution for: ApFin\n",
      "objective: 75375\n",
      "x_1=187500.000\n",
      "x_2=75000.000\n",
      "x_3=187500.000\n",
      "x_4=187500.000\n",
      "x_6=187500.000\n",
      "\n"
     ]
    }
   ],
   "source": [
    "from docplex.mp.model import Model\n",
    "import cplex\n",
    "\n",
    "m = Model(name='ApFin')\n",
    "\n",
    "variaveis = dict()\n",
    "\n",
    "for i in range(1,7):\n",
    "    variaveis[i] = m.continuous_var(name='x_{0}'.format(i))\n",
    "\n",
    "for i in range(1,7):\n",
    "    m.add_constraint(variaveis[i]<=187500)\n",
    "\n",
    "m.add_constraint(variaveis[1]+variaveis[6]>=375000)\n",
    "m.add_constraint(variaveis[2]+variaveis[3]+variaveis[5]<=262500)\n",
    "\n",
    "for i in range(1,7):\n",
    "    m.add_constraint(variaveis[i]>=0)\n",
    "    \n",
    "m.maximize(0.0865*variaveis[1]+0.0950*variaveis[2]+0.1*variaveis[3]\n",
    "           +0.0875*variaveis[4]+0.0925*variaveis[5]+0.09*variaveis[6])\n",
    "\n",
    "m.solve()\n",
    "print(m.solution)"
   ]
  },
  {
   "cell_type": "markdown",
   "id": "1114a90c",
   "metadata": {},
   "source": [
    "# Problema de Caminho Mínimo\n",
    "### V.D. $x_{ij} \\in \\{0,1\\}$  que representa se o caminho de i para j será usado ou não."
   ]
  },
  {
   "cell_type": "markdown",
   "id": "89c70086",
   "metadata": {},
   "source": [
    "## $$Minimizar \\ \\ \\ 10x_{12}+28x_{13}+15x_{23}+35x_{24}+13x_{34}\n",
    "\\\\ Suj. \\ à: \\ \\ \\ x_{12}+x_{13}=1\n",
    "\\\\ \\ \\ \\ \\ \\ \\ \\ \\ \\ \\ \\ \\ \\ \\ \\ \\ \\ \\ x_{12}-x_{24}-x_{23}=0\n",
    "\\\\ \\ \\ \\ \\ \\ \\ \\ \\ \\ \\ \\ \\ \\ \\ \\ \\ \\ \\ x_{13}+x_{23}-x_{34}=0\n",
    "\\\\ \\ \\ \\ \\ \\ \\ \\ \\ \\ \\ \\ \\ \\ \\ \\ \\ \\ \\ x_{24}+x_{34}=1\n",
    "\\\\ \\ \\ \\ \\ \\ \\ \\ \\ \\ \\ \\ \\ \\ \\ \\ \\ \\ \\ x_{12}, x_{13}, x_{23}, x_{24}, x_{34}\\in \\{0,1\\}$$"
   ]
  },
  {
   "cell_type": "code",
   "execution_count": 3,
   "id": "9e0c1f51",
   "metadata": {
    "scrolled": true
   },
   "outputs": [
    {
     "name": "stdout",
     "output_type": "stream",
     "text": [
      "Model: CaminhoMinimo\n",
      " - number of variables: 5\n",
      "   - binary=5, integer=0, continuous=0\n",
      " - number of constraints: 4\n",
      "   - linear=4\n",
      " - parameters: defaults\n",
      " - objective: minimize\n",
      " - problem type is: MILP\n",
      "solution for: CaminhoMinimo\n",
      "objective: 38\n",
      "x_12=1\n",
      "x_23=1\n",
      "x_34=1\n",
      "\n"
     ]
    }
   ],
   "source": [
    "from docplex.mp.model import Model\n",
    "import cplex\n",
    "\n",
    "m = Model(name='CaminhoMinimo')\n",
    "x_12 = m.binary_var(name='x_12')\n",
    "x_13 = m.binary_var(name='x_13')\n",
    "x_23 = m.binary_var(name='x_23')\n",
    "x_24 = m.binary_var(name='x_24')\n",
    "x_34 = m.binary_var(name='x_34')\n",
    "\n",
    "m.add_constraint(x_12+x_13==1)\n",
    "m.add_constraint(x_12-x_24-x_23==0)\n",
    "m.add_constraint(x_13+x_23-x_34==0)\n",
    "m.add_constraint(x_24+x_34==1)\n",
    "\n",
    "m.minimize(10*x_12+28*x_13+15*x_23+35*x_24+13*x_34)\n",
    "m.print_information()\n",
    "m.solve()\n",
    "print(m.solution)"
   ]
  },
  {
   "cell_type": "code",
   "execution_count": null,
   "id": "837b91d3",
   "metadata": {},
   "outputs": [],
   "source": []
  }
 ],
 "metadata": {
  "kernelspec": {
   "display_name": "Python 3",
   "language": "python",
   "name": "python3"
  },
  "language_info": {
   "codemirror_mode": {
    "name": "ipython",
    "version": 3
   },
   "file_extension": ".py",
   "mimetype": "text/x-python",
   "name": "python",
   "nbconvert_exporter": "python",
   "pygments_lexer": "ipython3",
   "version": "3.6.9"
  }
 },
 "nbformat": 4,
 "nbformat_minor": 5
}
