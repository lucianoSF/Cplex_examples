{
 "cells": [
  {
   "cell_type": "markdown",
   "id": "dda7d73b",
   "metadata": {},
   "source": [
    "# Problema da Dieta\n",
    "## $V.D. quantidade \\ x_j \\ de \\ móveis \\ A(j=1) \\ e \\ B(j=2) \\ a \\ serem \\ produzidos$"
   ]
  },
  {
   "cell_type": "markdown",
   "id": "80830a3f",
   "metadata": {},
   "source": [
    "## $$Maximizar \\ \\ \\ 100x_1+120x_2\n",
    "\\\\ Suj. \\ à: \\ \\ \\ 2x_1+x_2\\leq90\n",
    "\\\\ \\ \\ \\ \\ \\ \\ \\ \\ \\ \\ \\ \\ \\ \\ \\ \\ \\ \\ x_1 + 4x_2\\leq80\n",
    "\\\\ \\ \\ \\ \\ \\ \\ \\ \\ \\ \\ \\ \\ \\ \\ \\ \\ \\ \\ 3x_1 + 2x_2\\leq50\n",
    "\\\\ \\ \\ \\ \\ \\ \\ \\ \\ \\ \\ \\ \\ \\ \\ \\ \\ \\ \\ x_1, x_2\\geq0\n",
    "\\\\ \\ \\ \\ \\ \\ \\ \\ \\ \\ \\ \\ \\ \\ \\ \\ \\ \\ \\ x_1, x_2\\in \\mathbb{Z}$$"
   ]
  },
  {
   "cell_type": "code",
   "execution_count": 4,
   "id": "8ff98b19",
   "metadata": {},
   "outputs": [
    {
     "name": "stdout",
     "output_type": "stream",
     "text": [
      "solution for: dieta\n",
      "objective: 2680\n",
      "x_1=4\n",
      "x_2=19\n",
      "\n"
     ]
    }
   ],
   "source": [
    "from docplex.mp.model import Model\n",
    "import cplex\n",
    "\n",
    "m = Model(name='dieta')\n",
    "x_1 = m.integer_var(name='x_1')\n",
    "x_2 = m.integer_var(name='x_2')\n",
    "m.add_constraint(2*x_1+x_2<=90)\n",
    "m.add_constraint(x_1+4*x_2<=80)\n",
    "m.add_constraint(3*x_1+2*x_2<=50)\n",
    "m.add_constraint(x_1>=0)\n",
    "m.add_constraint(x_2>=0)\n",
    "m.maximize(100*x_1+120*x_2)\n",
    "m.solve()\n",
    "print(m.solution)"
   ]
  }
 ],
 "metadata": {
  "kernelspec": {
   "display_name": "Python 3",
   "language": "python",
   "name": "python3"
  },
  "language_info": {
   "codemirror_mode": {
    "name": "ipython",
    "version": 3
   },
   "file_extension": ".py",
   "mimetype": "text/x-python",
   "name": "python",
   "nbconvert_exporter": "python",
   "pygments_lexer": "ipython3",
   "version": "3.6.9"
  }
 },
 "nbformat": 4,
 "nbformat_minor": 5
}
